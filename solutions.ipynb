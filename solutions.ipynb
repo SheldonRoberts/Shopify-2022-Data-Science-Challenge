{
 "cells": [
  {
   "cell_type": "markdown",
   "id": "3ad34db9-912a-4c53-9bc7-e93403ca1048",
   "metadata": {},
   "source": [
    "# Summer 2022 Data Science Intern Challenge\n",
    "### Solution By Sheldon Roberts"
   ]
  },
  {
   "cell_type": "markdown",
   "id": "d0049415-71b7-4ed5-94b5-2f2ca99cf7e0",
   "metadata": {},
   "source": [
    "### Question 1\n",
    "**a)**\n",
    "> Think about what could be going wrong with our calculation. Think about a better way to evaluate this data. "
   ]
  },
  {
   "cell_type": "code",
   "execution_count": 38,
   "id": "caa441f9-83d8-4f52-959b-ad02f93d8664",
   "metadata": {},
   "outputs": [
    {
     "name": "stdout",
     "output_type": "stream",
     "text": [
      "Average order value: $3145.13\n",
      "Median order value: $284.00\n"
     ]
    },
    {
     "data": {
      "text/html": [
       "<div>\n",
       "<style scoped>\n",
       "    .dataframe tbody tr th:only-of-type {\n",
       "        vertical-align: middle;\n",
       "    }\n",
       "\n",
       "    .dataframe tbody tr th {\n",
       "        vertical-align: top;\n",
       "    }\n",
       "\n",
       "    .dataframe thead th {\n",
       "        text-align: right;\n",
       "    }\n",
       "</style>\n",
       "<table border=\"1\" class=\"dataframe\">\n",
       "  <thead>\n",
       "    <tr style=\"text-align: right;\">\n",
       "      <th></th>\n",
       "      <th>order_id</th>\n",
       "      <th>shop_id</th>\n",
       "      <th>user_id</th>\n",
       "      <th>order_amount</th>\n",
       "      <th>total_items</th>\n",
       "      <th>payment_method</th>\n",
       "      <th>created_at</th>\n",
       "    </tr>\n",
       "  </thead>\n",
       "  <tbody>\n",
       "    <tr>\n",
       "      <th>15</th>\n",
       "      <td>16</td>\n",
       "      <td>42</td>\n",
       "      <td>607</td>\n",
       "      <td>704000</td>\n",
       "      <td>2000</td>\n",
       "      <td>credit_card</td>\n",
       "      <td>2017-03-07 4:00:00</td>\n",
       "    </tr>\n",
       "    <tr>\n",
       "      <th>60</th>\n",
       "      <td>61</td>\n",
       "      <td>42</td>\n",
       "      <td>607</td>\n",
       "      <td>704000</td>\n",
       "      <td>2000</td>\n",
       "      <td>credit_card</td>\n",
       "      <td>2017-03-04 4:00:00</td>\n",
       "    </tr>\n",
       "    <tr>\n",
       "      <th>520</th>\n",
       "      <td>521</td>\n",
       "      <td>42</td>\n",
       "      <td>607</td>\n",
       "      <td>704000</td>\n",
       "      <td>2000</td>\n",
       "      <td>credit_card</td>\n",
       "      <td>2017-03-02 4:00:00</td>\n",
       "    </tr>\n",
       "    <tr>\n",
       "      <th>1104</th>\n",
       "      <td>1105</td>\n",
       "      <td>42</td>\n",
       "      <td>607</td>\n",
       "      <td>704000</td>\n",
       "      <td>2000</td>\n",
       "      <td>credit_card</td>\n",
       "      <td>2017-03-24 4:00:00</td>\n",
       "    </tr>\n",
       "  </tbody>\n",
       "</table>\n",
       "</div>"
      ],
      "text/plain": [
       "      order_id  shop_id  user_id  order_amount  total_items payment_method  \\\n",
       "15          16       42      607        704000         2000    credit_card   \n",
       "60          61       42      607        704000         2000    credit_card   \n",
       "520        521       42      607        704000         2000    credit_card   \n",
       "1104      1105       42      607        704000         2000    credit_card   \n",
       "\n",
       "              created_at  \n",
       "15    2017-03-07 4:00:00  \n",
       "60    2017-03-04 4:00:00  \n",
       "520   2017-03-02 4:00:00  \n",
       "1104  2017-03-24 4:00:00  "
      ]
     },
     "execution_count": 38,
     "metadata": {},
     "output_type": "execute_result"
    }
   ],
   "source": [
    "import pandas as pd\n",
    "import matplotlib.pyplot as plt\n",
    "orders = pd.read_csv(\"orders.csv\")\n",
    "\n",
    "aov = orders[\"order_amount\"].mean()\n",
    "mov = orders[\"order_amount\"].median()\n",
    "\n",
    "print(f\"Average order value: ${aov:.2f}\")\n",
    "print(f\"Median order value: ${mov:.2f}\")\n",
    "orders.nlargest(4, \"order_amount\")"
   ]
  },
  {
   "cell_type": "markdown",
   "id": "2b2f002e-927a-470a-b437-7620b4aaa86d",
   "metadata": {},
   "source": [
    "The mean being much larger than the median is a strong indication that the data is positively (right) skewed. A quick look at the data shows that there are also a group of outlier orders of $704,000.\n",
    "\n",
    "We could remove the outlier data by discarding certain orders, however this would incur bias as the cutoff is subjective.\n",
    "\n",
    "It would be better to evaluate this data using a metric more resistant to extreme values (such as median or mode)"
   ]
  },
  {
   "cell_type": "markdown",
   "id": "a7e6cca2-52db-4797-9baa-791444f0d70e",
   "metadata": {},
   "source": [
    "**b)**"
   ]
  },
  {
   "cell_type": "markdown",
   "id": "41882b5a-11a1-4ccb-b9ff-1c5b022363dc",
   "metadata": {},
   "source": [
    "> What metric would you report for this dataset?"
   ]
  },
  {
   "cell_type": "markdown",
   "id": "e540f308-c9d0-49b9-828f-3be418038d4e",
   "metadata": {},
   "source": [
    "I would use the median order value (MOV) as a metric for this dataset. "
   ]
  },
  {
   "cell_type": "markdown",
   "id": "1f24124f-2b40-4e15-9ba0-599cd14a96da",
   "metadata": {},
   "source": [
    "**c)**\n",
    "> What is its value?"
   ]
  },
  {
   "cell_type": "markdown",
   "id": "b869cde6-876c-49d4-b9b3-f5e242d4782c",
   "metadata": {},
   "source": [
    "The median order value was $284.00 for this dataset. I used a histogram to confirm that this was a reasonable value."
   ]
  },
  {
   "cell_type": "code",
   "execution_count": 47,
   "id": "5035ce02-17ad-47f8-bdfc-693550ddf938",
   "metadata": {},
   "outputs": [
    {
     "data": {
      "text/plain": [
       "array([[<AxesSubplot:title={'center':'order_amount'}>]], dtype=object)"
      ]
     },
     "execution_count": 47,
     "metadata": {},
     "output_type": "execute_result"
    },
    {
     "data": {
      "image/png": "[encoded data removed]",
      "text/plain": [
       "<Figure size 432x288 with 1 Axes>"
      ]
     },
     "metadata": {
      "needs_background": "light"
     },
     "output_type": "display_data"
    }
   ],
   "source": [
    "orders[orders[\"order_amount\"] < 10000].hist(column='order_amount', bins=25)"
   ]
  },
  {
   "cell_type": "markdown",
   "id": "888d4a58-1bff-4e93-81cc-6bf2e44af9f9",
   "metadata": {},
   "source": [
    "### Question 2"
   ]
  },
  {
   "cell_type": "markdown",
   "id": "c022312a-be9f-474a-ae93-8ac046218682",
   "metadata": {},
   "source": [
    "**a)**\n",
    "> How many orders were shipped by Speedy Express in total?"
   ]
  },
  {
   "cell_type": "markdown",
   "id": "84582a14-d5ce-411a-b150-055a93b70e6c",
   "metadata": {},
   "source": [
    "**answer:** 54"
   ]
  },
  {
   "cell_type": "markdown",
   "id": "eea62ac6-0842-45b5-b1f8-02d935790181",
   "metadata": {},
   "source": [
    "~~~~sql\n",
    "SELECT Count(*) AS Orders\n",
    "FROM Orders o, Shippers s\n",
    "WHERE o.ShipperID = s.shipperID\n",
    "AND s.ShipperName = \"Speedy Express\"\n",
    "~~~~"
   ]
  },
  {
   "cell_type": "markdown",
   "id": "9e4a4b5c-378c-47a7-81e8-a8db6d291dff",
   "metadata": {},
   "source": [
    "**b)**\n",
    "> What is the last name of the employee with the most orders?"
   ]
  },
  {
   "cell_type": "markdown",
   "id": "7067521f-dcde-4b51-87f8-bcef73a63f8e",
   "metadata": {},
   "source": [
    "**answer:** Peacock"
   ]
  },
  {
   "cell_type": "markdown",
   "id": "43b0f4cb-35a9-4a2c-9176-5a499666e335",
   "metadata": {},
   "source": [
    "~~~~sql\n",
    "SELECT e.LastName\n",
    "FROM Employees e, Orders o\n",
    "WHERE e.EmployeeID = o.EmployeeID\n",
    "GROUP BY e.EmployeeID\n",
    "ORDER BY COUNT(*) DESC LIMIT 1\n",
    "~~~~"
   ]
  },
  {
   "cell_type": "markdown",
   "id": "fc7bc929-eefe-42b9-807c-89de869c6b78",
   "metadata": {},
   "source": [
    "**c)**\n",
    "> What product was ordered the most by customers in Germany?"
   ]
  },
  {
   "cell_type": "markdown",
   "id": "e5b60505-2783-4ca3-bcf3-aefaa1093fda",
   "metadata": {},
   "source": [
    "**answer:** Boston Crab Meat"
   ]
  },
  {
   "cell_type": "markdown",
   "id": "a66efbbe-0250-4b91-a772-850dd7428476",
   "metadata": {},
   "source": [
    "~~~~sql\n",
    "SELECT p.ProductName, SUM(od.Quantity) AS Quantity\n",
    "FROM Orders o, OrderDetails od, Customers c, Products p\n",
    "WHERE c.CustomerID = o.CustomerID\n",
    "AND c.Country = \"Germany\"\n",
    "AND o.OrderID = od.OrderID\n",
    "AND p.ProductID = od.ProductID\n",
    "GROUP BY od.ProductID\n",
    "ORDER BY Quantity DESC LIMIT 1\n",
    "~~~~"
   ]
  },
  {
   "cell_type": "code",
   "execution_count": null,
   "id": "4b56e2d9-2b6e-4802-8e4f-08e996654047",
   "metadata": {},
   "outputs": [],
   "source": []
  }
 ],
 "metadata": {
  "kernelspec": {
   "display_name": "Python 3 (ipykernel)",
   "language": "python",
   "name": "python3"
  },
  "language_info": {
   "codemirror_mode": {
    "name": "ipython",
    "version": 3
   },
   "file_extension": ".py",
   "mimetype": "text/x-python",
   "name": "python",
   "nbconvert_exporter": "python",
   "pygments_lexer": "ipython3",
   "version": "3.8.10"
  }
 },
 "nbformat": 4,
 "nbformat_minor": 5
}
